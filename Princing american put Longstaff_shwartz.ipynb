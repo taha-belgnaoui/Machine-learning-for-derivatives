{
 "cells": [
  {
   "cell_type": "markdown",
   "metadata": {},
   "source": [
    "Programmer l'algorithme de Longstaff-Schwartz (celui vu en cours, le dernier!) pour un Put bermudéen dans un modèle de Black-Scholes, c'est à dire un put que l'on peut exercer aux dates $k/N$, $k=0,\\dots,N$. On prendra $r=0.1$, $\\sigma=0.25$, $x_0=100$ et le strike $K=110$ avec $N=10$ dates jusqu'en $T=1$ et le payoff $\\phi_k(x) = e^{-r k/N}(K-x)_+$.\n",
    "\n",
    "Contrainte: afficher les fonctions valeurs $V_n$ et de continuations $C_n$ après apprentissage par l'algorithme de LS sur les temps d'arrêts."
   ]
  }
 ],
 "metadata": {
  "language_info": {
   "name": "python"
  }
 },
 "nbformat": 4,
 "nbformat_minor": 2
}
