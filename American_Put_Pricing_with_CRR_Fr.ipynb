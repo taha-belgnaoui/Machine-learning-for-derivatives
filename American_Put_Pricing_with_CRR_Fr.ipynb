{
 "cells": [
  {
   "cell_type": "markdown",
   "metadata": {},
   "source": [
    "# Modèle CRR pour l'évaluation du prix d'un Put Américain\n",
    "\n",
    "## Introduction\n",
    "\n",
    "Nous considérons un modèle binomial de type CRR (Cox-Ross-Rubinstein) avec $n$ périodes pour modéliser l'évolution du prix d'un sous-jacent $X_n$. Ce modèle repose sur un arbre binaire à chaque étape, où il existe deux états possibles à chaque nœud : soit le prix du sous-jacent augmente d'un facteur $u$, soit il diminue d'un facteur $d$. Nous fixons une maturité $T$ et un pas de temps $\\Delta t$. À l'instant $n \\Delta t$ périodes, nous obtenons $n+1$ états possibles pour le prix de l'actif. On suppose également un taux d'intérêt $r$, de sorte qu'un actif sans risque évolue avec un facteur $e^{r \\Delta t}$ à chaque pas de temps. ."
   ]
  },
  {
   "cell_type": "markdown",
   "metadata": {},
   "source": [
    "D'aprés l'article partagé: afin d'assurer que la procédure du modèle binomial présente une convergence faible vers le processus de Black-Scholes, le modèle Cox, Ross, et Rubinstein (CRR) suggère les paramètres suivants :\n",
    "\n",
    "$$ u = e^{\\sigma \\sqrt{\\Delta t}} $$\n",
    "\n",
    "$$ d = \\frac{1}{u} $$\n",
    "\n",
    "$$ p = \\frac{1}{2} \\left( 1 + \\left( r - \\frac{1}{2} \\sigma^2 \\right) \\frac{1}{\\sigma} \\sqrt{\\Delta t} \\right) $$\n"
   ]
  },
  {
   "cell_type": "code",
   "execution_count": 13,
   "metadata": {},
   "outputs": [],
   "source": [
    "import numpy as np\n",
    "import matplotlib.pyplot as plt\n",
    "import matplotlib as mpl\n",
    "import seaborn as sns"
   ]
  },
  {
   "cell_type": "code",
   "execution_count": 14,
   "metadata": {},
   "outputs": [],
   "source": [
    "sns.set_style(\"whitegrid\")\n",
    "mpl.rcParams['figure.dpi'] = 100\n",
    "\n",
    "params_grid = {\"color\": 'lightgrey', \"linestyle\": 'dotted', \"linewidth\": 0.7 }"
   ]
  },
  {
   "cell_type": "markdown",
   "metadata": {},
   "source": [
    "## Objectif\n",
    "\n",
    "\n",
    "Le prix d'un put américain est exprimé comme suit :\n",
    "\n",
    "$$\n",
    "\\sup_{\\tau \\in \\mathbf{A}} \\mathbb{E}^{\\mathbf{Q}}\\left[ e^{-r \\tau}(X_\\tau - K)_+ \\right]\n",
    "$$\n",
    "où $\\mathbb{E}^{\\mathbf{Q}}$ représente l'espérance sous la probabilité risque neutre  $\\mathbf{Q}$ et $\\mathbf{A}$ l'ensemble des temps d'arrêt inférieurs à T .\n",
    "\n",
    "Ce notebook a pour objectif d'évaluer le prix d'un put américain en utilisant le modèle CRR et la programmation dynamique"
   ]
  },
  {
   "cell_type": "markdown",
   "metadata": {},
   "source": [
    "## Modélisation\n",
    "\n",
    "\n",
    "On modélise l'évolution du prix de l'actif de la manière suivante. Soit $(X_n)_{n \\in \\{0, \\dots, N\\}}$ la chaîne de Markov représentant la valeur de notre action à l'instant $n$. Pour un  ${n \\in \\{0, \\dots, N\\}}$ fixé, $X_n$ prend des valeurs dans $E_n$, où :\n",
    "$$\n",
    "E_n = \\{ X_0 \\cdot u^i \\cdot d^j \\mid i \\in \\mathbb{N}, j \\in \\mathbb{N}, i + j = n \\}\n",
    "$$\n",
    "\n",
    "Les transitions $(Q_n)_{n = 0, \\dots, N-1}$ de la chaîne de Markov sont définies par $Q_n(x, y) = \\mathbb{Q}(X_{n+1} = y | X_{n} = x)$ et vérifient la relation suivante :\n",
    "\n",
    "$$\n",
    "\\forall x, y \\in E, \\quad \n",
    "Q_n(x, y) = \n",
    "\\begin{cases}\n",
    "q_u & \\text{si } y = x \\cdot u, \\\\\n",
    "1-q_u & \\text{si } y = x \\cdot d, \\\\\n",
    "0 & \\text{sinon}.\n",
    "\\end{cases}\n",
    "$$\n",
    "\n",
    "\n",
    "\n",
    "\n",
    "\n",
    "\n",
    "\n",
    "\n",
    "\n",
    "\n",
    "\n",
    "### Fonction de Gains ou Payoff\n",
    "\n",
    "La fonction de gain, notée $\\varphi$, est donnée par :\n",
    "\n",
    "$$\n",
    "\\varphi_n(x) = (K - x)_+\n",
    "$$\n",
    "\n",
    "où $K$ est le strike du put "
   ]
  },
  {
   "cell_type": "code",
   "execution_count": 15,
   "metadata": {},
   "outputs": [],
   "source": [
    "#paramétres\n",
    "N=30\n",
    "K=100\n",
    "X_0=100\n",
    "T=1#\n",
    "dt=T/N#\n",
    "r=0.03\n",
    "sigma=0.02\n",
    "u=np.exp(sigma*np.sqrt(dt))\n",
    "d=1/u\n",
    "qu=0.5*(1+((r-0.5*sigma**2)/sigma)*np.sqrt(dt)) # proba que le prix augmente, qu>0\n",
    "qd=1-qu\n",
    "size_N=2\n",
    "lw_N = 1.5"
   ]
  },
  {
   "cell_type": "code",
   "execution_count": 16,
   "metadata": {},
   "outputs": [],
   "source": [
    "states=[]\n",
    "for i in range(N+1):\n",
    "    Si=np.array([X_0*(u**k)*(d**(i-k)) for k in range(i+1)])\n",
    "    states.append(Si)"
   ]
  },
  {
   "cell_type": "code",
   "execution_count": 17,
   "metadata": {},
   "outputs": [
    {
     "data": {
      "image/png": "[encoded data removed]",
      "text/plain": [
       "<Figure size 640x480 with 1 Axes>"
      ]
     },
     "metadata": {},
     "output_type": "display_data"
    }
   ],
   "source": [
    "if N<31:\n",
    "# prix du sous jacent aux différents pas de temps\n",
    "    fig, ax = plt.subplots()\n",
    "    ax.grid(**params_grid)\n",
    "    for n in range(N+1):\n",
    "        for z in states[n]:\n",
    "            ax.scatter(n, z, color='grey', marker='o', s=2)"
   ]
  },
  {
   "cell_type": "code",
   "execution_count": 18,
   "metadata": {},
   "outputs": [],
   "source": [
    "# matrice de transition de ma chaine de Markov\n",
    "P = [np.zeros((len(states[n]), len(states[n+1]))) for n in range(N)]\n",
    "for n in range(N):\n",
    "    for i, x in enumerate(states[n]):\n",
    "        for j, y in enumerate(states[n+1]):\n",
    "            if abs(y - x*u)<0.001: P[n][i,j] = qu\n",
    "            if abs(y - x*d)<0.001: P[n][i,j] = qd"
   ]
  },
  {
   "cell_type": "code",
   "execution_count": 19,
   "metadata": {},
   "outputs": [],
   "source": [
    "# matrice payoff\n",
    "def put(x,K):\n",
    "    return max(0,K-x)\n",
    "payoffs=[]\n",
    "for i in range(N+1):\n",
    "    Si=[put(X_0*(u**k)*(d**(i-k)),K) for k in range(i+1)]\n",
    "    payoffs.append(Si)"
   ]
  },
  {
   "cell_type": "code",
   "execution_count": 20,
   "metadata": {},
   "outputs": [],
   "source": [
    "#matrice valeur en chaque état \n",
    "V = [np.copy(payoffs[n]) for n in range(N+1)]\n",
    "for n in reversed(range(N)):\n",
    "    \n",
    "    V[n] = np.maximum(payoffs[n], np.exp(-r*dt)*P[n] @ V[n+1]) "
   ]
  },
  {
   "cell_type": "markdown",
   "metadata": {},
   "source": [
    "## Prix du put"
   ]
  },
  {
   "cell_type": "code",
   "execution_count": 21,
   "metadata": {},
   "outputs": [
    {
     "name": "stdout",
     "output_type": "stream",
     "text": [
      "le prix du put est 0.22990980874687145\n"
     ]
    }
   ],
   "source": [
    "print(\"le prix du put est\",V[0][0])"
   ]
  },
  {
   "cell_type": "markdown",
   "metadata": {},
   "source": [
    "## Comparaison des résultats avec simulations de monte carlo"
   ]
  },
  {
   "cell_type": "code",
   "execution_count": 22,
   "metadata": {},
   "outputs": [],
   "source": [
    "M = int(1e4)\n",
    "stop = [(payoffs[n] == V[n]).astype('int') for n in range(N+1)] #frontière d'exercice\n",
    "\n",
    "gains = np.zeros(M)\n",
    "path = np.zeros(N+1, dtype='int')\n",
    "\n",
    "for j in range(M):\n",
    "    for n in range(1, N+1):\n",
    "        path[n] = np.random.choice(np.arange(P[n-1].shape[1]), 1, p=P[n-1][path[n-1]])[0]\n",
    "        if (stop[n][path[n]] == 1):\n",
    "            break\n",
    "    gains[j] = payoffs[n][path[n]]\n",
    "\n",
    "m = np.mean(gains)\n",
    "ic_size = 1.96 * np.sqrt(np.var(gains, ddof=1) / M) "
   ]
  },
  {
   "cell_type": "code",
   "execution_count": 23,
   "metadata": {},
   "outputs": [
    {
     "name": "stdout",
     "output_type": "stream",
     "text": [
      "La valeur estimée avec 10000 échantillons est : 0.2324, et la variance estimée est 0.1138.\n",
      "La valeur réelle se trouve dans l'intervalle [0.2258, 0.2391] avec 95% de probabilité (M = 10000).\n",
      "La valeur réelle est : 0.2299\n"
     ]
    }
   ],
   "source": [
    "print(f\"La valeur estimée avec {M} échantillons est : {m:.4}, et la variance estimée est {np.var(gains):.4}.\")\n",
    "print(f\"La valeur réelle se trouve dans l'intervalle [{m-ic_size:.4}, {m+ic_size:.4}] avec 95% de probabilité (M = {M}).\")\n",
    "print(f\"La valeur réelle est : {V[0][0]:.4}\")\n",
    "\n"
   ]
  }
 ],
 "metadata": {
  "kernelspec": {
   "display_name": "Python 3",
   "language": "python",
   "name": "python3"
  },
  "language_info": {
   "codemirror_mode": {
    "name": "ipython",
    "version": 3
   },
   "file_extension": ".py",
   "mimetype": "text/x-python",
   "name": "python",
   "nbconvert_exporter": "python",
   "pygments_lexer": "ipython3",
   "version": "3.10.11"
  }
 },
 "nbformat": 4,
 "nbformat_minor": 2
}
