{
 "cells": [
  {
   "cell_type": "markdown",
   "metadata": {},
   "source": [
    "Comparer le LS avec régression linéaire et le LS lorsqu'on utilise un réseau de neurones (régression non-linéaire) pour apprendre la fonction de continuation. \n",
    "\n",
    "C'est un travail numérique prospectif à faire pour le mardi 11 mars en s'interrogeant sur les différents paramètres: nombres de scénarios, nombre d'epochs, taille de batch, réglage du learning rate, normalisation des données simulées..."
   ]
  },
  {
   "cell_type": "code",
   "execution_count": null,
   "metadata": {},
   "outputs": [],
   "source": [
    "import torch\n",
    "from torch import nn \n",
    "from tqdm import tqdm\n",
    "import numpy as np\n",
    "import matplotlib.pyplot as plt\n",
    "import numpy as np \n",
    "\n",
    "\n",
    "import torch\n",
    "import torch.nn as nn\n",
    "import torch.optim as optim"
   ]
  },
  {
   "cell_type": "markdown",
   "metadata": {},
   "source": [
    "nombres de scénarios, nombre d'epochs, taille de batch, réglage du learning rate, normalisation des données simulées..."
   ]
  },
  {
   "cell_type": "markdown",
   "metadata": {},
   "source": [
    "la fonction de continuation est une focntion de R dans R ,  #8 neuronnes 4 neuronnes 2 couches  8 neuronnes equivalents à (16+ 8*4+4 +4)\n",
    "\n",
    "#MSloss pour les probleme de moindre carre \n",
    "#Relu\n",
    "#linear pour une couche d'appli linéaire \n",
    "\n",
    "\n",
    "#il ya 2 syntaxe (celle du prof est deja direct mais il y en a une autre)\n",
    "\n",
    "#Feedforward Neural Network :(je sais pas pourquoi ce mot technique )\n",
    "\n",
    "#la question est: si j 'ai une fonction avec une brisure comme c'est le cas ici, qu'elle est la bonne architecture pour detectee cettte application (presquelinéaire) par morceau .\n",
    "\n",
    "#peut etre ajouter une fonction sa'activation à la fin pour avoir que la partie positif?\n",
    "\n",
    "#loss.backward calcule le loss parapoort à theata \n",
    "\n",
    "#full c'est quan don considere l'esperance\n",
    "\n",
    "#SGD c'est quand on considere un seul path?\n"
   ]
  },
  {
   "cell_type": "code",
   "execution_count": 18,
   "metadata": {},
   "outputs": [],
   "source": [
    "# choisir un optimiseur , adam ou \n",
    "\n",
    "np.random.seed(42)  # fix the seed for every valuation"
   ]
  },
  {
   "cell_type": "code",
   "execution_count": 54,
   "metadata": {},
   "outputs": [],
   "source": [
    "#paramétres\n",
    "r=0.1\n",
    "sigma=0.25\n",
    "x_0=100\n",
    "K=110\n",
    "N=10   \n",
    "T=1\n",
    "npaths=1000000\n",
    "ts = np.linspace(0, T, N+1)"
   ]
  },
  {
   "cell_type": "code",
   "execution_count": null,
   "metadata": {},
   "outputs": [],
   "source": [
    "# Simulation Monte-Carlo du processus Black-Scholes\n",
    "\n",
    "def blackscholes_mc(S, vol, r, ts, npaths):\n",
    "\n",
    "    nsteps = len(ts) - 1\n",
    "    ts = np.asfarray(ts)[:, np.newaxis]\n",
    "    W = np.cumsum(np.vstack((np.zeros((1, npaths)),\n",
    "                             np.random.randn(nsteps, npaths) * np.sqrt(np.diff(ts, axis=0)))),\n",
    "                  axis=0)\n",
    "    paths = np.exp(-0.5*vol**2*ts + vol*W)*S*np.exp((r)*ts)\n",
    "    return paths\n",
    "\n",
    "\n",
    "    paths=blackscholes_mc(x_0, sigma, r, ts, npaths)\n",
    "paths_torch = torch.from_numpy(paths).float()\n",
    "print(paths_torch.shape) "
   ]
  },
  {
   "cell_type": "code",
   "execution_count": 45,
   "metadata": {},
   "outputs": [
    {
     "name": "stdout",
     "output_type": "stream",
     "text": [
      "torch.Size([11, 1000000])\n"
     ]
    }
   ],
   "source": [
    "paths=blackscholes_mc(x_0, sigma, r, ts, npaths)\n",
    "paths_torch = torch.from_numpy(paths).float()\n",
    "print(paths_torch.shape) "
   ]
  },
  {
   "cell_type": "code",
   "execution_count": null,
   "metadata": {},
   "outputs": [],
   "source": [
    "#normalizing"
   ]
  },
  {
   "cell_type": "code",
   "execution_count": 24,
   "metadata": {},
   "outputs": [],
   "source": [
    "class NeuralNetwork(nn.Module):\n",
    "    def __init__(self):\n",
    "        super().__init__()\n",
    "        self.linear_relu_stack = nn.Sequential(  #champs de ces objets?, ou est le biais??)# par defaut c'es true\n",
    "            nn.Linear(3, 8),\n",
    "            nn.ReLU(),\n",
    "            nn.Linear(8, 8),\n",
    "            nn.ReLU(),\n",
    "            nn.Linear(8, 1)\n",
    "        )\n",
    "\n",
    "    def forward(self, x):  #surcharge methode forward, programation fonctionnel?\n",
    "        out = self.linear_relu_stack(x)\n",
    "        return out"
   ]
  },
  {
   "cell_type": "code",
   "execution_count": null,
   "metadata": {},
   "outputs": [],
   "source": [
    "Phi = NeuralNetwork()\n",
    "\n",
    "def init_weights(m):\n",
    "    if isinstance(m, nn.Linear):\n",
    "        torch.nn.init.xavier_uniform_(m.weight)\n",
    "        m.bias.data.fill_(0.01)\n",
    "\n",
    "Phi.apply(init_weights)"
   ]
  },
  {
   "cell_type": "code",
   "execution_count": 15,
   "metadata": {},
   "outputs": [
    {
     "name": "stdout",
     "output_type": "stream",
     "text": [
      "tensor([0.4451], grad_fn=<ViewBackward0>)\n"
     ]
    }
   ],
   "source": [
    "x = torch.tensor([0.2, 0.3, 0.4])\n",
    "print(Phi(x))"
   ]
  },
  {
   "cell_type": "code",
   "execution_count": null,
   "metadata": {},
   "outputs": [],
   "source": [
    "\"\"\"num_epochs = 50\n",
    "learning_rate = 0.001\n",
    "batch_size = 32\"\"\"\n",
    "\n",
    "\n",
    "\n",
    "\n",
    "num_epochs = 20\n",
    "batch_size = 1024\n",
    "learning_rate = 1e-3\n",
    "layers_shapes=[8, 8]\n",
    "\n",
    "#il faut definir le loss et l'optimizer!"
   ]
  },
  {
   "cell_type": "code",
   "execution_count": 12,
   "metadata": {},
   "outputs": [
    {
     "data": {
      "text/plain": [
       "Parameter containing:\n",
       "tensor([[-0.4460,  0.3497, -0.2720],\n",
       "        [-0.2360, -0.5141, -0.4507],\n",
       "        [-0.2608, -0.4075, -0.2435],\n",
       "        [ 0.1422, -0.2414, -0.0155],\n",
       "        [-0.3481,  0.2464,  0.0577],\n",
       "        [-0.2629, -0.2844, -0.0531],\n",
       "        [ 0.4364, -0.3653, -0.4121],\n",
       "        [-0.1599,  0.4968,  0.2690]], requires_grad=True)"
      ]
     },
     "execution_count": 12,
     "metadata": {},
     "output_type": "execute_result"
    }
   ],
   "source": [
    "Phi.get_parameter(\"linear_relu_stack.0.weight\")"
   ]
  },
  {
   "cell_type": "markdown",
   "metadata": {},
   "source": [
    "\n",
    "phi_recharge = MonReseau() # creer un instance\n",
    "\n",
    "phi.state_dict() # sauvegarde les parametres\n",
    "\n",
    "\n",
    "phi_recharge.load_state_dict(torch.load('modele_phi.pth'))\n",
    "\n",
    "\n",
    "phi_recharge.eval()# peut etre obigatoire "
   ]
  },
  {
   "cell_type": "markdown",
   "metadata": {},
   "source": [
    "#normalisation\n",
    "\n",
    "def noramlizex()\n",
    "\n",
    "def normalizey()\n",
    "\n",
    "def unormalize\n",
    "\n"
   ]
  },
  {
   "cell_type": "code",
   "execution_count": null,
   "metadata": {},
   "outputs": [],
   "source": [
    "def regression_nn(x, y, layer_sizes, n_epochs, batch_size, \n",
    "                      learning_rate=1e-3, \n",
    "                      theta_init=None):   \n",
    "    data_size, input_size = x.shape\n",
    "    n_upd = data_size // batch_size \n",
    "    \n",
    "    phi = NeuralNetwork(input_size, layer_sizes, output_size=1).to(device)\n",
    "    #if theta_init is not None:\n",
    "     #   phi.load_state_dict(theta_init.copy())\n",
    "    #optimizer = torch.optim.Adam(phi.parameters(), lr=learning_rate)\n",
    "    \n",
    "    with tqdm(range(n_epochs)) as nrange:\n",
    "        for n in nrange:\n",
    "            indexes = torch.randperm(data_size)\n",
    "            for k in range(n_upd):\n",
    "                idx = indexes[k*batch_size:(k+1)*batch_size] \n",
    "                loss = ((yj[idx] - phi(xj[idx]))**2).mean()\n",
    "                optimizer.zero_grad()\n",
    "                loss.backward()\n",
    "                optimizer.step()\n",
    "            nrange.set_postfix(loss=loss.item())\n",
    "    return phi.state_dict(), phi(xj)"
   ]
  },
  {
   "cell_type": "code",
   "execution_count": null,
   "metadata": {},
   "outputs": [],
   "source": [
    "payoff = np.maximum(K - paths[-1], 0).copy()\n",
    "\n",
    "# Matrice pour stocker les coefficients du polynôme\n",
    "poly_coeffs = np.zeros((len(ts) - 1, 4)) \n",
    "\n",
    "\n",
    "for i in range(len(ts) - 2, 0, -1):\n",
    "    discount = np.exp(-r * (ts[i + 1] - ts[i]))\n",
    "    payoff *= discount\n",
    "    \n",
    "    # Régression polynomiale\n",
    "    p = np.polyfit(paths[i], payoff, deg=3) #polynôme de degré 3\n",
    "    poly_coeffs[i] = p  \n",
    "    contval = np.polyval(p, paths[i])  # Valeur de continuation\n",
    "    exerval = np.maximum(K - paths[i], 0)  # Valeur d'exercice\n",
    "    \n",
    "    C[i] = contval\n",
    "    V[i] = np.maximum(exerval, contval)\n",
    "    \n",
    "    # Identifier les chemins où il faut exercer\n",
    "    ind = exerval > contval\n",
    "    payoff[ind] = exerval[ind]\n",
    "\n",
    "\n",
    "print(\"Valeur de l'option:\",max(np.mean(payoff*np.exp(-r*(ts[1]-ts[0]))),10)) # K-x_0=10"
   ]
  },
  {
   "cell_type": "code",
   "execution_count": 71,
   "metadata": {},
   "outputs": [],
   "source": [
    "x = np.maximum(K - paths[-1], 0).copy()\n",
    "y=paths[-2]*np.exp(-r * (ts[1] - ts[0]))"
   ]
  },
  {
   "cell_type": "code",
   "execution_count": 86,
   "metadata": {},
   "outputs": [],
   "source": [
    "import torch\n",
    "import torch.nn as nn\n",
    "import torch.optim as optim\n",
    "from torch.utils.data import TensorDataset, DataLoader\n",
    "\n",
    "def train_neural_network(x, y, layers_shapes, batch_size, epochs, learning_rate=0.01):\n",
    "    # Convertir les données en tenseurs\n",
    "    x_tensor = torch.from_numpy(x).float()  # Assurez-vous que les données sont au format float\n",
    "    y_tensor = torch.from_numpy(y).float()\n",
    "\n",
    "    # Définition dynamique du réseau selon layers_shapes\n",
    "    layers = []\n",
    "    input_shape = 1  # La forme d'entrée doit correspondre au nombre de caractéristiques\n",
    "    for shape in layers_shapes[:-1]:\n",
    "        layers.append(nn.Linear(in_features=input_shape, out_features=shape, bias=True))\n",
    "        layers.append(nn.ReLU())\n",
    "        input_shape = shape\n",
    "\n",
    "    # Couche de sortie\n",
    "    layers.append(nn.Linear(in_features=input_shape, out_features=layers_shapes[-1], bias=True))\n",
    "\n",
    "    model = nn.Sequential(*layers)\n",
    "    print(model)\n",
    "    \n",
    "    def init_weights(m):\n",
    "        if isinstance(m, nn.Linear):\n",
    "            torch.nn.init.xavier_uniform_(m.weight)\n",
    "            m.bias.data.fill_(0.01)\n",
    "\n",
    "    model.apply(init_weights)\n",
    "\n",
    "    # Fonction de perte (erreur quadratique moyenne)\n",
    "    criterion = nn.MSELoss()\n",
    "\n",
    "    # Optimiseur (Adam)\n",
    "    optimizer = optim.Adam(model.parameters(), lr=learning_rate)\n",
    "\n",
    "    # Boucle d'entraînement\n",
    "    dataset = TensorDataset(x_tensor, y_tensor)\n",
    "    loader = DataLoader(dataset, batch_size=batch_size, shuffle=True)\n",
    "\n",
    "    for epoch in range(epochs):\n",
    "        for xb, yb in loader:\n",
    "            optimizer.zero_grad()\n",
    "            predictions = model(xb)\n",
    "            loss = criterion(predictions, yb)  # Utilisation de la fonction de perte définie\n",
    "            loss.backward()\n",
    "            optimizer.step()\n",
    "\n",
    "        print(f'Epoch {epoch+1}/{epochs}, Loss: {loss.item()}')\n",
    "\n",
    "    return model.state_dict()"
   ]
  },
  {
   "cell_type": "code",
   "execution_count": 100,
   "metadata": {},
   "outputs": [],
   "source": [
    "def create_model(layers_shapes):\n",
    "        layers = []\n",
    "        input_shape = 1  # Chaque échantillon est un scalaire\n",
    "        for shape in layers_shapes[:-1]:\n",
    "            layers.append(nn.Linear(in_features=input_shape, out_features=shape, bias=True))\n",
    "            layers.append(nn.ReLU())\n",
    "            input_shape = shape\n",
    "        layers.append(nn.Linear(in_features=input_shape, out_features=layers_shapes[-1], bias=True))\n",
    "        return nn.Sequential(*layers)\n",
    "\n",
    "def init_weights(m):\n",
    "        if isinstance(m, nn.Linear):\n",
    "            torch.nn.init.xavier_uniform_(m.weight)\n",
    "            m.bias.data.fill_(0.01)"
   ]
  },
  {
   "cell_type": "code",
   "execution_count": null,
   "metadata": {},
   "outputs": [],
   "source": [
    "import torch\n",
    "import torch.nn as nn\n",
    "import torch.optim as optim\n",
    "from torch.utils.data import TensorDataset, DataLoader\n",
    "\n",
    "def train_neural_network(x, y, layers_shapes, batch_size, epochs, learning_rate=0.01):\n",
    "    # Convertir les données en tenseurs\n",
    "    x_tensor = torch.from_numpy(x).float().view(-1, 1)  # Forme (nombre_d'échantillons, 1)\n",
    "    y_tensor = torch.from_numpy(y).float().view(-1, 1)  # Forme (nombre_d'échantillons, 1)\n",
    "\n",
    "    model = create_model(layers_shapes)\n",
    "    model.apply(init_weights)\n",
    "\n",
    "    # Fonction de perte (erreur quadratique moyenne)\n",
    "    criterion = nn.MSELoss()\n",
    "\n",
    "    # Optimiseur (Adam)\n",
    "    optimizer = optim.Adam(model.parameters(), lr=learning_rate)\n",
    "\n",
    "    # Boucle d'entraînement\n",
    "    dataset = TensorDataset(x_tensor, y_tensor)\n",
    "    loader = DataLoader(dataset, batch_size=batch_size, shuffle=True)\n",
    "\n",
    "    for epoch in range(epochs):\n",
    "        for xb, yb in loader:\n",
    "            optimizer.zero_grad()\n",
    "            predictions = model(xb)  # xb a une forme (batch_size, 1)\n",
    "            loss = criterion(predictions, yb)  # Utilisation de la fonction de perte définie\n",
    "            loss.backward()\n",
    "            optimizer.step()\n",
    "\n",
    "        print(f'Epoch {epoch+1}/{epochs}, Loss: {loss.item()}')\n",
    "\n",
    "    return model.state_dict()\n",
    "\n",
    "vv=train_neural_network(payoff, y, layers_shapes, batch_size, num_epochs, learning_rate=0.01)"
   ]
  },
  {
   "cell_type": "code",
   "execution_count": null,
   "metadata": {},
   "outputs": [],
   "source": [
    "x=np.linspace(1,100,10000)\n",
    "y=x**2+1"
   ]
  },
  {
   "cell_type": "code",
   "execution_count": 123,
   "metadata": {},
   "outputs": [],
   "source": [
    "num_epochs = 100\n",
    "batch_size = 100\n",
    "learning_rate = 1e-4\n",
    "layers_shapes=[8, 8,1]# shape 1 en sortie"
   ]
  },
  {
   "cell_type": "code",
   "execution_count": 116,
   "metadata": {},
   "outputs": [
    {
     "name": "stdout",
     "output_type": "stream",
     "text": [
      "Epoch 1/100, Loss: 20115272.0\n",
      "Epoch 2/100, Loss: 24201526.0\n",
      "Epoch 3/100, Loss: 24160648.0\n",
      "Epoch 4/100, Loss: 20985430.0\n",
      "Epoch 5/100, Loss: 23905250.0\n",
      "Epoch 6/100, Loss: 16687813.0\n",
      "Epoch 7/100, Loss: 19824988.0\n",
      "Epoch 8/100, Loss: 19027406.0\n",
      "Epoch 9/100, Loss: 22656876.0\n",
      "Epoch 10/100, Loss: 19655076.0\n",
      "Epoch 11/100, Loss: 16905158.0\n",
      "Epoch 12/100, Loss: 18870956.0\n",
      "Epoch 13/100, Loss: 13881600.0\n",
      "Epoch 14/100, Loss: 18008026.0\n",
      "Epoch 15/100, Loss: 17831008.0\n",
      "Epoch 16/100, Loss: 19003426.0\n",
      "Epoch 17/100, Loss: 21454964.0\n",
      "Epoch 18/100, Loss: 19685276.0\n",
      "Epoch 19/100, Loss: 17977514.0\n",
      "Epoch 20/100, Loss: 16768488.0\n",
      "Epoch 21/100, Loss: 17172192.0\n",
      "Epoch 22/100, Loss: 15330712.0\n",
      "Epoch 23/100, Loss: 18097590.0\n",
      "Epoch 24/100, Loss: 15879316.0\n",
      "Epoch 25/100, Loss: 16910244.0\n",
      "Epoch 26/100, Loss: 13536641.0\n",
      "Epoch 27/100, Loss: 14546255.0\n",
      "Epoch 28/100, Loss: 14247633.0\n",
      "Epoch 29/100, Loss: 13079023.0\n",
      "Epoch 30/100, Loss: 12342075.0\n",
      "Epoch 31/100, Loss: 15589185.0\n",
      "Epoch 32/100, Loss: 11547825.0\n",
      "Epoch 33/100, Loss: 13522015.0\n",
      "Epoch 34/100, Loss: 9581669.0\n",
      "Epoch 35/100, Loss: 10923040.0\n",
      "Epoch 36/100, Loss: 9627375.0\n",
      "Epoch 37/100, Loss: 11309741.0\n",
      "Epoch 38/100, Loss: 9241001.0\n",
      "Epoch 39/100, Loss: 8589255.0\n",
      "Epoch 40/100, Loss: 9174228.0\n",
      "Epoch 41/100, Loss: 8268560.0\n",
      "Epoch 42/100, Loss: 10204046.0\n",
      "Epoch 43/100, Loss: 5325614.0\n",
      "Epoch 44/100, Loss: 7555033.0\n",
      "Epoch 45/100, Loss: 4505853.5\n",
      "Epoch 46/100, Loss: 7186567.5\n",
      "Epoch 47/100, Loss: 6446858.0\n",
      "Epoch 48/100, Loss: 6579003.0\n",
      "Epoch 49/100, Loss: 6354877.5\n",
      "Epoch 50/100, Loss: 4048441.5\n",
      "Epoch 51/100, Loss: 4733835.5\n",
      "Epoch 52/100, Loss: 4358763.5\n",
      "Epoch 53/100, Loss: 2309013.0\n",
      "Epoch 54/100, Loss: 4447981.0\n",
      "Epoch 55/100, Loss: 3337755.75\n",
      "Epoch 56/100, Loss: 2552591.75\n",
      "Epoch 57/100, Loss: 2992348.75\n",
      "Epoch 58/100, Loss: 2626460.5\n",
      "Epoch 59/100, Loss: 1800404.75\n",
      "Epoch 60/100, Loss: 2092886.125\n",
      "Epoch 61/100, Loss: 2221281.25\n",
      "Epoch 62/100, Loss: 2161626.0\n",
      "Epoch 63/100, Loss: 2154878.75\n",
      "Epoch 64/100, Loss: 1863148.75\n",
      "Epoch 65/100, Loss: 1617134.25\n",
      "Epoch 66/100, Loss: 1599633.625\n",
      "Epoch 67/100, Loss: 1840574.75\n",
      "Epoch 68/100, Loss: 1165314.75\n",
      "Epoch 69/100, Loss: 1940324.0\n",
      "Epoch 70/100, Loss: 1525309.125\n",
      "Epoch 71/100, Loss: 1438694.5\n",
      "Epoch 72/100, Loss: 1442035.875\n",
      "Epoch 73/100, Loss: 1247595.625\n",
      "Epoch 74/100, Loss: 1451649.875\n",
      "Epoch 75/100, Loss: 1214653.875\n",
      "Epoch 76/100, Loss: 1227677.0\n",
      "Epoch 77/100, Loss: 1245812.125\n",
      "Epoch 78/100, Loss: 1251257.5\n",
      "Epoch 79/100, Loss: 1392391.0\n",
      "Epoch 80/100, Loss: 1296584.125\n",
      "Epoch 81/100, Loss: 1402400.375\n",
      "Epoch 82/100, Loss: 1192960.0\n",
      "Epoch 83/100, Loss: 1445700.75\n",
      "Epoch 84/100, Loss: 1370078.5\n",
      "Epoch 85/100, Loss: 1484513.875\n",
      "Epoch 86/100, Loss: 1193394.75\n",
      "Epoch 87/100, Loss: 1253322.25\n",
      "Epoch 88/100, Loss: 1445483.625\n",
      "Epoch 89/100, Loss: 1238252.625\n",
      "Epoch 90/100, Loss: 1365880.125\n",
      "Epoch 91/100, Loss: 1134793.875\n",
      "Epoch 92/100, Loss: 1263540.125\n",
      "Epoch 93/100, Loss: 1300711.875\n",
      "Epoch 94/100, Loss: 1412578.125\n",
      "Epoch 95/100, Loss: 1300616.25\n",
      "Epoch 96/100, Loss: 1278785.5\n",
      "Epoch 97/100, Loss: 1197633.875\n",
      "Epoch 98/100, Loss: 1209561.875\n",
      "Epoch 99/100, Loss: 1329162.25\n",
      "Epoch 100/100, Loss: 1235579.125\n"
     ]
    }
   ],
   "source": [
    "vv=train_neural_network(x, y, layers_shapes, batch_size, num_epochs, learning_rate)"
   ]
  },
  {
   "cell_type": "code",
   "execution_count": 117,
   "metadata": {},
   "outputs": [
    {
     "data": {
      "text/plain": [
       "Sequential(\n",
       "  (0): Linear(in_features=1, out_features=16, bias=True)\n",
       "  (1): ReLU()\n",
       "  (2): Linear(in_features=16, out_features=16, bias=True)\n",
       "  (3): ReLU()\n",
       "  (4): Linear(in_features=16, out_features=1, bias=True)\n",
       ")"
      ]
     },
     "execution_count": 117,
     "metadata": {},
     "output_type": "execute_result"
    }
   ],
   "source": [
    "# Créer le modèle\n",
    "model = create_model(layers_shapes)\n",
    "\n",
    "# Charger les poids entraînés\n",
    "model.load_state_dict(vv)\n",
    "\n",
    "# Passer le modèle en mode évaluation (important pour désactiver des couches comme Dropout)\n",
    "model.eval()"
   ]
  },
  {
   "cell_type": "code",
   "execution_count": 118,
   "metadata": {},
   "outputs": [
    {
     "data": {
      "text/plain": [
       "Sequential(\n",
       "  (0): Linear(in_features=1, out_features=16, bias=True)\n",
       "  (1): ReLU()\n",
       "  (2): Linear(in_features=16, out_features=16, bias=True)\n",
       "  (3): ReLU()\n",
       "  (4): Linear(in_features=16, out_features=1, bias=True)\n",
       ")"
      ]
     },
     "execution_count": 118,
     "metadata": {},
     "output_type": "execute_result"
    }
   ],
   "source": [
    "# Créer le modèle\n",
    "model = create_model(layers_shapes)\n",
    "\n",
    "# Charger les poids entraînés\n",
    "model.load_state_dict(vv)\n",
    "\n",
    "# Passer le modèle en mode évaluation (important pour désactiver des couches comme Dropout)\n",
    "model.eval()"
   ]
  },
  {
   "cell_type": "code",
   "execution_count": 122,
   "metadata": {},
   "outputs": [
    {
     "data": {
      "image/png": "[encoded data removed]",
      "text/plain": [
       "<Figure size 1000x600 with 1 Axes>"
      ]
     },
     "metadata": {},
     "output_type": "display_data"
    }
   ],
   "source": [
    "# 2. Générer des données sur l'intervalle [-50, 50]\n",
    "x_values = np.linspace(-50, 50, 1000)  # 1000 points entre -50 et 50\n",
    "x_tensor = torch.from_numpy(x).float().view(-1, 1)  # Convertir en tenseur PyTorch\n",
    "\n",
    "# 3. Faire des prédictions\n",
    "with torch.no_grad():  # Désactiver le calcul du gradient\n",
    "    y_pred = model(x_tensor)\n",
    "\n",
    "# Convertir les prédictions en tableau numpy\n",
    "y_pred = y_pred.numpy()\n",
    "#y_payoff=np.maximum(0,x_values-110)\n",
    "\n",
    "# 4. Tracer les résultats\n",
    "plt.figure(figsize=(10, 6))\n",
    "plt.plot(x, y_pred, label=\"Prédictions du modèle\", color=\"blue\")\n",
    "#plt.plot(x_values, y_payoff, label=\"Prédictions du modèle\", color=\"blue\")\n",
    "plt.xlabel(\"x\")\n",
    "plt.ylabel(\"y\")\n",
    "plt.title(\"Évaluation du modèle sur l'intervalle [-50, 50]\")\n",
    "plt.grid(True)\n",
    "plt.legend()\n",
    "plt.show()"
   ]
  },
  {
   "cell_type": "code",
   "execution_count": null,
   "metadata": {},
   "outputs": [
    {
     "data": {
      "text/plain": [
       "torch.Size([1000000])"
      ]
     },
     "execution_count": 81,
     "metadata": {},
     "output_type": "execute_result"
    }
   ],
   "source": []
  },
  {
   "cell_type": "code",
   "execution_count": 77,
   "metadata": {},
   "outputs": [],
   "source": [
    "x_tensor = torch.from_numpy(x)"
   ]
  },
  {
   "cell_type": "code",
   "execution_count": 72,
   "metadata": {},
   "outputs": [
    {
     "data": {
      "text/plain": [
       "(1000000,)"
      ]
     },
     "execution_count": 72,
     "metadata": {},
     "output_type": "execute_result"
    }
   ],
   "source": [
    "x.shape"
   ]
  },
  {
   "cell_type": "code",
   "execution_count": 73,
   "metadata": {},
   "outputs": [
    {
     "data": {
      "text/plain": [
       "torch.Size([3])"
      ]
     },
     "execution_count": 73,
     "metadata": {},
     "output_type": "execute_result"
    }
   ],
   "source": [
    "x_tensor.shape"
   ]
  },
  {
   "cell_type": "code",
   "execution_count": null,
   "metadata": {},
   "outputs": [],
   "source": [
    "modelcopy=model.load_state_dict(vv)"
   ]
  },
  {
   "cell_type": "code",
   "execution_count": 42,
   "metadata": {},
   "outputs": [
    {
     "name": "stdout",
     "output_type": "stream",
     "text": [
      "odict_keys(['fc.weight', 'fc.bias'])\n"
     ]
    }
   ],
   "source": [
    "import torch\n",
    "import torch.nn as nn\n",
    "\n",
    "# Define a simple neural network\n",
    "class SimpleNet(nn.Module):\n",
    "    def __init__(self):\n",
    "        super(SimpleNet, self).__init__()\n",
    "        self.fc = nn.Linear(10, 5)\n",
    "\n",
    "    def forward(self, x):\n",
    "        return self.fc(x)\n",
    "\n",
    "# Instantiate model\n",
    "model = SimpleNet()\n",
    "\n",
    "# Access state_dict\n",
    "state_dict = model.state_dict()\n",
    "\n",
    "# View keys in state_dict\n",
    "print(state_dict.keys())\n"
   ]
  },
  {
   "cell_type": "code",
   "execution_count": null,
   "metadata": {},
   "outputs": [],
   "source": []
  },
  {
   "cell_type": "code",
   "execution_count": null,
   "metadata": {},
   "outputs": [
    {
     "name": "stdout",
     "output_type": "stream",
     "text": [
      "Sequential(\n",
      "  (0): Linear(in_features=1, out_features=8, bias=True)\n",
      "  (1): ReLU()\n",
      "  (2): Linear(in_features=8, out_features=8, bias=True)\n",
      "  (3): ReLU()\n",
      "  (4): Linear(in_features=8, out_features=8, bias=True)\n",
      "  (5): ReLU()\n",
      "  (6): Linear(in_features=8, out_features=1, bias=True)\n",
      ")\n",
      "Epoch 1/20, Loss: 0.0236\n",
      "Epoch 2/20, Loss: 0.0509\n",
      "Epoch 3/20, Loss: 0.0016\n",
      "Epoch 4/20, Loss: 0.0060\n",
      "Epoch 5/20, Loss: 0.0007\n",
      "Epoch 6/20, Loss: 0.0042\n",
      "Epoch 7/20, Loss: 0.0038\n",
      "Epoch 8/20, Loss: 0.0008\n",
      "Epoch 9/20, Loss: 0.0005\n",
      "Epoch 10/20, Loss: 0.0002\n",
      "Epoch 11/20, Loss: 0.0003\n",
      "Epoch 12/20, Loss: 0.0000\n",
      "Epoch 13/20, Loss: 0.0003\n",
      "Epoch 14/20, Loss: 0.0000\n",
      "Epoch 15/20, Loss: 0.0000\n",
      "Epoch 16/20, Loss: 0.0001\n",
      "Epoch 17/20, Loss: 0.0001\n",
      "Epoch 18/20, Loss: 0.0006\n",
      "Epoch 19/20, Loss: 0.0001\n",
      "Epoch 20/20, Loss: 0.0003\n",
      "Entraînement terminé. Paramètres finaux : {'0.weight': array([[-0.04685352],\n",
      "       [ 0.81947213],\n",
      "       [ 0.234347  ],\n",
      "       [-0.23960109],\n",
      "       [ 0.67934954],\n",
      "       [-0.19722176],\n",
      "       [-0.3032173 ],\n",
      "       [-0.6328668 ]], dtype=float32), '0.bias': array([ 0.22753936,  0.01698856,  0.10086556, -0.04346825, -0.0755281 ,\n",
      "        0.24899079, -0.04347023,  0.20579295], dtype=float32), '2.weight': array([[-1.17037527e-01, -1.68890923e-01,  6.83797359e-01,\n",
      "         1.82944998e-01, -4.70441043e-01,  6.04299545e-01,\n",
      "         1.81769468e-02,  7.00262308e-01],\n",
      "       [-1.35039240e-01, -2.31931835e-01,  5.22787690e-01,\n",
      "        -2.54362255e-01, -1.48558199e-01,  8.53104055e-01,\n",
      "         5.11357844e-01,  5.01885772e-01],\n",
      "       [-5.95402360e-01,  7.31262743e-01,  7.39173234e-01,\n",
      "        -1.03620335e-01, -3.22508067e-01, -9.88207981e-02,\n",
      "         3.36215526e-01,  8.88314191e-03],\n",
      "       [-1.70062512e-01, -2.48269171e-01, -3.94588292e-01,\n",
      "         4.20871794e-01, -1.75977588e-01, -2.32757151e-01,\n",
      "        -5.93324244e-01,  1.43790007e-01],\n",
      "       [-3.89084756e-01, -1.49286509e-01, -1.17256880e-01,\n",
      "        -5.96916676e-01, -3.43677312e-01, -6.58968687e-02,\n",
      "        -3.44148755e-01,  5.81364632e-02],\n",
      "       [-2.42685768e-04,  2.65429229e-01,  1.03480011e-01,\n",
      "        -2.07737476e-01, -3.21094632e-01,  1.21530034e-01,\n",
      "        -6.59349024e-01, -1.57661334e-01],\n",
      "       [ 6.26692057e-01,  2.74957009e-02, -3.73731852e-01,\n",
      "         4.43244398e-01,  4.82802778e-01, -4.89641845e-01,\n",
      "         2.75739849e-01,  7.25267649e-01],\n",
      "       [-3.62542868e-02, -2.14398324e-01, -3.25857162e-01,\n",
      "        -2.60928631e-01, -3.26225311e-01, -5.92130542e-01,\n",
      "        -2.32429326e-01,  2.72471189e-01]], dtype=float32), '2.bias': array([ 0.2352659 ,  0.11801501,  0.06675145,  0.01      ,  0.01      ,\n",
      "       -0.12780477, -0.01251619,  0.01      ], dtype=float32), '4.weight': array([[-0.73361546, -0.2952965 ,  0.3697297 , -0.08439445,  0.37245113,\n",
      "         0.27916455,  0.13119595,  0.45985705],\n",
      "       [ 0.3141181 , -0.34397796, -0.38774365, -0.23441324, -0.09269869,\n",
      "        -0.09134741,  0.49112722, -0.37534675],\n",
      "       [-0.10282426, -0.69817585,  0.61947453, -0.24685195,  0.52624077,\n",
      "        -0.34151077, -0.40201545, -0.5379647 ],\n",
      "       [ 0.44327837, -0.35681686, -0.6678136 ,  0.04925489, -0.23794392,\n",
      "        -0.0191043 , -0.03801654,  0.3733639 ],\n",
      "       [ 0.35337624,  0.19587243, -0.41780016, -0.31258583, -0.23158038,\n",
      "         0.42394525,  0.4616532 , -0.23432171],\n",
      "       [-0.58953273, -0.2014402 ,  0.69624144, -0.04797411,  0.14684975,\n",
      "         0.19868462,  0.7177523 , -0.20917442],\n",
      "       [-0.06533587, -0.43236765, -0.09427145, -0.3364293 ,  0.5387576 ,\n",
      "         0.19802147,  0.39282104,  0.42382056],\n",
      "       [-0.7827819 , -0.00584271,  0.69005835, -0.23910293, -0.49466217,\n",
      "        -0.1219045 ,  0.04536047, -0.48736936]], dtype=float32), '4.bias': array([ 0.04216519, -0.09273798, -0.11957096, -0.12545365, -0.10206943,\n",
      "        0.07501675, -0.11043008,  0.01872345], dtype=float32), '6.weight': array([[ 0.5940696 , -0.4914049 ,  0.2329524 ,  0.29352713, -0.38787088,\n",
      "         0.89230824, -0.49249512,  0.23241255]], dtype=float32), '6.bias': array([0.07965565], dtype=float32)}\n"
     ]
    }
   ],
   "source": [
    "# Exemple de données fictives\n",
    "x_example = np.random.rand(100, 1)\n",
    "y_example = x_example**2\n",
    "\n",
    "\n",
    "layers_shapes = [8, 8, 8, 1]\n",
    "batch_size = 16\n",
    "epochs = 20\n",
    "\n",
    "trained_params = train_neural_network(x_example, y_example, layers_shapes, batch_size=batch_size, epochs=epochs)\n",
    "#print(\"Entraînement terminé. Paramètres finaux :\", trained_params)\n"
   ]
  },
  {
   "cell_type": "code",
   "execution_count": null,
   "metadata": {},
   "outputs": [],
   "source": [
    "x_eval = np.random.rand(20, 10)\n",
    "y_eval = np.random.rand(100, 2)\n",
    "trained_model.evaluate(x_example, y_example)"
   ]
  }
 ],
 "metadata": {
  "kernelspec": {
   "display_name": "Python 3",
   "language": "python",
   "name": "python3"
  },
  "language_info": {
   "codemirror_mode": {
    "name": "ipython",
    "version": 3
   },
   "file_extension": ".py",
   "mimetype": "text/x-python",
   "name": "python",
   "nbconvert_exporter": "python",
   "pygments_lexer": "ipython3",
   "version": "3.10.11"
  }
 },
 "nbformat": 4,
 "nbformat_minor": 2
}
