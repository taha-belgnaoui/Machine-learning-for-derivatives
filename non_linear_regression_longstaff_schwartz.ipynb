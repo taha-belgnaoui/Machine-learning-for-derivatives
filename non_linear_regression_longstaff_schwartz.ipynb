{
 "cells": [
  {
   "cell_type": "markdown",
   "metadata": {},
   "source": [
    "Comparer le LS avec régression linéaire et le LS lorsqu'on utilise un réseau de neurones (régression non-linéaire) pour apprendre la fonction de continuation. \n",
    "\n",
    "C'est un travail numérique prospectif à faire pour le mardi 11 mars en s'interrogeant sur les différents paramètres: nombres de scénarios, nombre d'epochs, taille de batch, réglage du learning rate, normalisation des données simulées..."
   ]
  },
  {
   "cell_type": "code",
   "execution_count": 3,
   "metadata": {},
   "outputs": [],
   "source": [
    "import torch\n",
    "from torch import nn \n",
    "from tqdm import tqdm\n",
    "import numpy as np\n",
    "import matplotlib.pyplot as plt\n",
    "import numpy as np "
   ]
  },
  {
   "cell_type": "markdown",
   "metadata": {},
   "source": [
    "```mermaid\n",
    "graph TD;\n",
    "    I(Input) --> H1_1(Hidden Layer 1: Neuron 1);\n",
    "    I(Input) --> H1_2(Hidden Layer 1: Neuron 2);\n",
    "    I(Input) --> H1_3(Hidden Layer 1: Neuron 3);\n",
    "    I(Input) --> H1_4(Hidden Layer 1: Neuron 4);\n",
    "    I(Input) --> H1_5(Hidden Layer 1: Neuron 5);\n",
    "\n",
    "    H1_1 --> H2_1(Hidden Layer 2: Neuron 1);\n",
    "    H1_2 --> H2_1;\n",
    "    H1_3 --> H2_1;\n",
    "    H1_4 --> H2_1;\n",
    "    H1_5 --> H2_1;\n",
    "\n",
    "    H1_1 --> H2_2(Hidden Layer 2: Neuron 2);\n",
    "    H1_2 --> H2_2;\n",
    "    H1_3 --> H2_2;\n",
    "    H1_4 --> H2_2;\n",
    "    H1_5 --> H2_2;\n",
    "\n",
    "    H1_1 --> H2_3(Hidden Layer 2: Neuron 3);\n",
    "    H1_2 --> H2_3;\n",
    "    H1_3 --> H2_3;\n",
    "    H1_4 --> H2_3;\n",
    "    H1_5 --> H2_3;\n",
    "\n",
    "    H1_1 --> H2_4(Hidden Layer 2: Neuron 4);\n",
    "    H1_2 --> H2_4;\n",
    "    H1_3 --> H2_4;\n",
    "    H1_4 --> H2_4;\n",
    "    H1_5 --> H2_4;\n",
    "\n",
    "    H1_1 --> H2_5(Hidden Layer 2: Neuron 5);\n",
    "    H1_2 --> H2_5;\n",
    "    H1_3 --> H2_5;\n",
    "    H1_4 --> H2_5;\n",
    "    H1_5 --> H2_5;\n",
    "\n",
    "    H2_1 --> H3_1(Hidden Layer 3: Neuron 1);\n",
    "    H2_2 --> H3_1;\n",
    "    H2_3 --> H3_1;\n",
    "    H2_4 --> H3_1;\n",
    "    H2_5 --> H3_1;\n",
    "\n",
    "    H2_1 --> H3_2(Hidden Layer 3: Neuron 2);\n",
    "    H2_2 --> H3_2;\n",
    "    H2_3 --> H3_2;\n",
    "    H2_4 --> H3_2;\n",
    "    H2_5 --> H3_2;\n",
    "\n",
    "    H2_1 --> H3_3(Hidden Layer 3: Neuron 3);\n",
    "    H2_2 --> H3_3;\n",
    "    H2_3 --> H3_3;\n",
    "    H2_4 --> H3_3;\n",
    "    H2_5 --> H3_3;\n",
    "\n",
    "    H2_1 --> H3_4(Hidden Layer 3: Neuron 4);\n",
    "    H2_2 --> H3_4;\n",
    "    H2_3 --> H3_4;\n",
    "    H2_4 --> H3_4;\n",
    "    H2_5 --> H3_4;\n",
    "\n",
    "    H2_1 --> H3_5(Hidden Layer 3: Neuron 5);\n",
    "    H2_2 --> H3_5;\n",
    "    H2_3 --> H3_5;\n",
    "    H2_4 --> H3_5;\n",
    "    H2_5 --> H3_5;\n",
    "\n",
    "    H3_1 --> O(Output);\n",
    "    H3_2 --> O;\n",
    "    H3_3 --> O;\n",
    "    H3_4 --> O;\n",
    "    H3_5 --> O;\n"
   ]
  },
  {
   "cell_type": "code",
   "execution_count": null,
   "metadata": {},
   "outputs": [],
   "source": [
    "class Neuralnetwork(nn.Module):\n",
    "    def __init__(self):\n",
    "        self.fc1=nn.Linear(1,10)\n",
    "        self.fc2=nn.Linear(10,10)\n",
    "        self.fc3=nn.Linear(10,1)\n",
    "        self.relu=nn.Relu()\n",
    "\n",
    "    def forward(self,x):\n",
    "        x=self.fc1(x)\n",
    "        x=self.fc2(x)\n",
    "        x=self.fc3(x)\n",
    "        #relu\n",
    "        return x\n",
    "    \n",
    "    model =Neuralnetwork\n",
    "    print(model)"
   ]
  },
  {
   "cell_type": "code",
   "execution_count": null,
   "metadata": {},
   "outputs": [],
   "source": [
    "# choisir un optimiseur , adam ou "
   ]
  }
 ],
 "metadata": {
  "kernelspec": {
   "display_name": "Python 3",
   "language": "python",
   "name": "python3"
  },
  "language_info": {
   "codemirror_mode": {
    "name": "ipython",
    "version": 3
   },
   "file_extension": ".py",
   "mimetype": "text/x-python",
   "name": "python",
   "nbconvert_exporter": "python",
   "pygments_lexer": "ipython3",
   "version": "3.10.11"
  }
 },
 "nbformat": 4,
 "nbformat_minor": 2
}
